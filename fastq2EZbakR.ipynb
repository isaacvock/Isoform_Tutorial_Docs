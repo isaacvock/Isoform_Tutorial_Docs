{
  "cells": [
    {
      "cell_type": "raw",
      "metadata": {},
      "source": [
        "---\n",
        "title: \"fastq2EZbakR for isoform analyses\"\n",
        "---"
      ],
      "id": "e76653c4"
    },
    {
      "cell_type": "markdown",
      "metadata": {},
      "source": [
        "## Introduction\n",
        "\n",
        "## Quickstart\n",
        "\n",
        "\n",
        "```{bash}\n",
        "#| eval: false\n",
        "#| echo: true\n",
        "\n",
        "# CREATE ENVIRONMENT\n",
        "mamba create -c conda-forge -c bioconda --name deploy_snakemake 'snakemake<8.0.0' snakedeploy\n",
        "  # Or conda create ...\n",
        "  # If using conda, I would highly suggest setting up the\n",
        "  # libmamba solver: https://www.anaconda.com/blog/a-faster-conda-for-a-growing-community\n",
        "\n",
        "# DEPLOY PIPELINE\n",
        "conda activate deploy_snakemake\n",
        "snakedeploy deploy-workflow https://github.com/isaacvock/fastq2EZbakR.git . --branch main\n",
        "\n",
        "###\n",
        "# EDIT CONFIG FILE\n",
        "###\n",
        "\n",
        "# RUN PIPELINE\n",
        "snakemake --cores all --use-conda --rerun-triggers mtime --keep-going\n",
        "```\n",
        "\n",
        "\n",
        "\n",
        "## Running the pipeline\n",
        "\n",
        "### Step 0: Setup \n",
        "\n",
        "### Step 1: "
      ],
      "id": "49ac41c0"
    }
  ],
  "metadata": {
    "kernelspec": {
      "display_name": "Python 3",
      "language": "python",
      "name": "python3"
    }
  },
  "nbformat": 4,
  "nbformat_minor": 5
}